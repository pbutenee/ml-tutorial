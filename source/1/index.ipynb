{
 "cells": [
  {
   "cell_type": "markdown",
   "metadata": {},
   "source": [
    "# Machine Learning 101++ in Python\n",
    "\n",
    "#### Created by:\n",
    "\n",
    "- Pieter Buteneers ([@PieterButeneers](https://twitter.com/pieterbuteneers)), Director of Engineering in ML & AI at [sinch.com](https://www.sinch.com/) \n",
    "- Bart De Vylder, Senior Research Engineer at [Google DeepMind](https://deepmind.com/)\n",
    "- Vladimir Rybakov, Head of Data Science at [Wave Access](https://www.wave-access.com/)\n",
    "- Jeroen Boeye ([@JeroenBoeye](https://twitter.com/JeroenBoeye)), Senior Machine Learning Engineer at [Faktion](https://www.faktion.com/)\n",
    "- Joris Boeye ([@JorisBoeye](https://twitter.com/JorisBoeye)), Senior Data Scientist at [ZF Wind Power](https://www.zf.com/products/en/wind/home/wind.html)\n",
    "\n",
    "### About\n",
    "\n",
    "This tutorial consists of 3 parts, the first one will introduce you to Jupyter notebooks and Numpy to get you started with Python. The second part covers the basics of machine learning and the third shows how to build a recommendation engine. Finally, there is a bonus part on time series anomaly detection. Click on the links below to get started!\n",
    "\n",
    "\n",
    "## [1. Jupyter notebooks and Numpy](notebook_intro.ipynb)\n",
    "\n",
    "## [2. Machine Learning](machine_learning.ipynb)\n",
    "\n",
    "## [3. Data and Feature Engineering](feature_engineering.ipynb)\n",
    "\n",
    "## [4. Recommendation Engine](recommendation_engine.ipynb)\n",
    "\n",
    "## Extras\n",
    "\n",
    "[Simple Time Series Anomaly Detection](anomaly_detection.ipynb)"
   ]
  },
  {
   "cell_type": "code",
   "execution_count": null,
   "metadata": {},
   "outputs": [],
   "source": []
  }
 ],
 "metadata": {
  "anaconda-cloud": {},
  "celltoolbar": "Create Assignment",
  "kernelspec": {
   "display_name": "Python 3 (ipykernel)",
   "language": "python",
   "name": "python3"
  },
  "language_info": {
   "codemirror_mode": {
    "name": "ipython",
    "version": 3
   },
   "file_extension": ".py",
   "mimetype": "text/x-python",
   "name": "python",
   "nbconvert_exporter": "python",
   "pygments_lexer": "ipython3",
   "version": "3.9.7"
  },
  "pycharm": {
   "stem_cell": {
    "cell_type": "raw",
    "metadata": {
     "collapsed": false
    },
    "source": []
   }
  }
 },
 "nbformat": 4,
 "nbformat_minor": 1
}
